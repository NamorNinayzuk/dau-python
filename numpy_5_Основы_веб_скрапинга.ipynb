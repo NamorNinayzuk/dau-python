{
  "nbformat": 4,
  "nbformat_minor": 0,
  "metadata": {
    "colab": {
      "provenance": [],
      "include_colab_link": true
    },
    "kernelspec": {
      "name": "python3",
      "display_name": "Python 3"
    },
    "language_info": {
      "name": "python"
    }
  },
  "cells": [
    {
      "cell_type": "markdown",
      "metadata": {
        "id": "view-in-github",
        "colab_type": "text"
      },
      "source": [
        "<a href=\"https://colab.research.google.com/github/susanna-susanna/dau-python/blob/main/numpy_5_%D0%9E%D1%81%D0%BD%D0%BE%D0%B2%D1%8B_%D0%B2%D0%B5%D0%B1_%D1%81%D0%BA%D1%80%D0%B0%D0%BF%D0%B8%D0%BD%D0%B3%D0%B0.ipynb\" target=\"_parent\"><img src=\"https://colab.research.google.com/assets/colab-badge.svg\" alt=\"Open In Colab\"/></a>"
      ]
    },
    {
      "cell_type": "markdown",
      "source": [
        "##Домашнее задание к лекции \"Основы веб-скрапинга\"\n",
        "###Обязательная часть\n",
        "Вам необходимо написать функцию, которая будет основана на поиске по сайту [habr.com](https://habr.com/ru/search/). Функция в качестве параметра должна принимать \n",
        "список запросов для поиска (например, `['python', 'анализ данных']`) и на основе материалов, попавших в результаты поиска по каждому запросу, возвращать датафрейм вида:\n",
        "\n",
        "`<дата> - <заголовок> - <ссылка на материал>`\n",
        "В рамках задания предполагается работа только с одной (первой) страницей результатов поисковой выдачи для каждого запроса. Материалы в датафрейме не должны дублироваться, если они попадали в результаты поиска для нескольких запросов из списка.\n",
        "\n",
        "###Дополнительная часть (необязательная)\n",
        "Функция из обязательной части задания должна быть расширена следующим образом:\n",
        "\n",
        "*   кроме списка ключевых слов для поиска необходимо объявить параметр с количеством страниц поисковой выдачи. Т.е. при передаче в функцию аргумента 4 необходимо получить материалы с первых 4 страниц результатов;\n",
        "\n",
        "*   в датафрейме должны быть столбцы с полным текстом найденных материалов и количеством лайков:\n",
        "`<дата> - <заголовок> - <ссылка на материал> - <текст материала> - <количество лайков>`\n"
      ],
      "metadata": {
        "id": "DZHoZkdN33TF"
      }
    },
    {
      "cell_type": "code",
      "execution_count": null,
      "metadata": {
        "id": "1txzX0a_3X-S"
      },
      "outputs": [],
      "source": [
        "import pandas as pd"
      ]
    },
    {
      "cell_type": "code",
      "source": [
        "import requests"
      ],
      "metadata": {
        "id": "86UIefUF3kK6"
      },
      "execution_count": null,
      "outputs": []
    },
    {
      "cell_type": "code",
      "source": [
        "# как разбирать всю эту разметку? Поможет BeautifulSoup.\n",
        "from bs4 import BeautifulSoup"
      ],
      "metadata": {
        "id": "7t4JbhiPAS8Q"
      },
      "execution_count": null,
      "outputs": []
    },
    {
      "cell_type": "code",
      "source": [
        "import time"
      ],
      "metadata": {
        "id": "61SDek6h4uKr"
      },
      "execution_count": null,
      "outputs": []
    },
    {
      "cell_type": "code",
      "source": [],
      "metadata": {
        "id": "_EvGKaphP9dB"
      },
      "execution_count": null,
      "outputs": []
    },
    {
      "cell_type": "code",
      "source": [
        "# в request можно передать параметры запроса и заголовки (headers) в виде словарей. \n",
        "URL = 'https://habr.com/kek/v2/articles/'\n",
        "params = {\n",
        "    'page': 1,\n",
        "    # '?q': 'анализ данных&target_type=posts&order=relevance' \n",
        "    '?query': 'анализ данных'# + '&order=relevance&fl=ru&hl=ru&page=1'    \n",
        "}\n",
        "\n",
        "# Request URL: https://habr.com/kek/v2/articles/?query=%D0%B0%D0%BD%D0%B0%D0%BB%D0%B8%D0%B7%20%D0%B4%D0%B0%D0%BD%D0%BD%D1%8B%D1%85&order=relevance&fl=ru&hl=ru&page=1\n",
        "# Request URL: https://habr.com/kek/v2/articles/?query=python&order=relevance&fl=ru&hl=ru&page=1\n",
        "\n",
        "\n",
        "headers = {\n",
        "    'User-Agent': 'Mozilla/5.0 (Linux; Android 6.0; Nexus 5 Build/MRA58N) AppleWebKit/537.36 (KHTML, like Gecko) Chrome/101.0.4951.67 Mobile Safari/537.36'\n",
        "}\n",
        "\n",
        "req = requests.get(URL, params=params, headers=headers)\n",
        "\n",
        "req.text"
      ],
      "metadata": {
        "colab": {
          "base_uri": "https://localhost:8080/",
          "height": 35
        },
        "id": "4nRgMURD-Upg",
        "outputId": "89efda65-d6a8-4ac0-d128-bc12028fd36b"
      },
      "execution_count": null,
      "outputs": [
        {
          "output_type": "execute_result",
          "data": {
            "text/plain": [
              "'{\"code\":400,\"message\":\"Bad Request Url\",\"data\":null,\"additional\":null}'"
            ],
            "application/vnd.google.colaboratory.intrinsic+json": {
              "type": "string"
            }
          },
          "metadata": {},
          "execution_count": 17
        }
      ]
    },
    {
      "cell_type": "code",
      "source": [
        "# создаем объект, через методы которого будем искать нужные теги и извлекать их содержимое\n",
        "soup_1 = BeautifulSoup(req.text)\n",
        "soup_1"
      ],
      "metadata": {
        "id": "mhTTqyOH1pdg",
        "colab": {
          "base_uri": "https://localhost:8080/"
        },
        "outputId": "3d16e65f-418c-4ae9-cef7-011576f0d45e"
      },
      "execution_count": null,
      "outputs": [
        {
          "output_type": "execute_result",
          "data": {
            "text/plain": [
              "<html><body><p>{\"code\":400,\"message\":\"Bad Request Url\",\"data\":null,\"additional\":null}</p></body></html>"
            ]
          },
          "metadata": {},
          "execution_count": 15
        }
      ]
    },
    {
      "cell_type": "code",
      "source": [
        "# функция finda_all позволяет найти все указанные тег с нужными атрибутами (с вложениями), возвращает список\n",
        "news_1 = soup_1.find_all('article', class_='tm-articles-list__item')\n",
        "print(len(news_1))\n",
        "# print(news_1[0])tm-articles-list__item"
      ],
      "metadata": {
        "colab": {
          "base_uri": "https://localhost:8080/"
        },
        "id": "GGeQ0MLa2IyS",
        "outputId": "235218b4-9752-4ad1-8912-2f53d3034509"
      },
      "execution_count": null,
      "outputs": [
        {
          "output_type": "stream",
          "name": "stdout",
          "text": [
            "0\n"
          ]
        }
      ]
    },
    {
      "cell_type": "code",
      "source": [
        "# этот код точно также работает)) Не заметила разницы между \"'?q': 'python анализ...\" и такой записью \"'q': 'python'\"\n",
        "\n",
        "URL = 'https://habr.com/ru/search/'\n",
        "params = {\n",
        "    'page': 1,\n",
        "    'q': 'python'\n",
        "}\n",
        "headers = {\n",
        "    'User-Agent': 'Mozilla/5.0 (Linux; Android 6.0; Nexus 5 Build/MRA58N) AppleWebKit/537.36 (KHTML, like Gecko) Chrome/101.0.4951.67 Mobile Safari/537.36'\n",
        "}\n",
        "\n",
        "req_1 = requests.get(URL, params=params, headers=headers)\n",
        "\n",
        "req_1.text"
      ],
      "metadata": {
        "id": "5M4vzfF8HsKM"
      },
      "execution_count": null,
      "outputs": []
    },
    {
      "cell_type": "code",
      "source": [
        "# создаем объект, через методы которого будем искать нужные теги и извлекать их содержимое\n",
        "soup = BeautifulSoup(req_1.text)\n",
        "soup"
      ],
      "metadata": {
        "id": "MSYBPVu-AFUy"
      },
      "execution_count": null,
      "outputs": []
    },
    {
      "cell_type": "code",
      "source": [
        "# функция finda_all позволяет найти все указанные тег с нужными атрибутами (с вложениями), возвращает список\n",
        "news = soup.find_all('article', class_='tm-articles-list__item')\n",
        "print(len(news))\n",
        "print(news[0])"
      ],
      "metadata": {
        "colab": {
          "base_uri": "https://localhost:8080/"
        },
        "id": "I97EhivoBC3R",
        "outputId": "320ae6ee-d902-4d17-f191-a3d7ef453276"
      },
      "execution_count": null,
      "outputs": [
        {
          "output_type": "stream",
          "name": "stdout",
          "text": [
            "20\n",
            "<article class=\"tm-articles-list__item\" data-navigatable=\"\" id=\"669344\" tabindex=\"0\"><div class=\"tm-article-snippet\"><div class=\"tm-article-snippet__meta-container\"><div class=\"tm-article-snippet__meta\"><span class=\"tm-user-info tm-article-snippet__author\"><a class=\"tm-user-info__userpic\" href=\"/ru/users/AzaAkch/\" title=\"AzaAkch\"><div class=\"tm-entity-image\"><svg class=\"tm-svg-img tm-image-placeholder tm-image-placeholder_green\" height=\"24\" width=\"24\"><!-- --> <use xlink:href=\"/img/megazord-v25.c73165cd.svg#placeholder-user\"></use></svg></div></a> <span class=\"tm-user-info__user\"><a class=\"tm-user-info__username\" href=\"/ru/users/AzaAkch/\">\n",
            "      AzaAkch\n",
            "    </a> </span></span> <span class=\"tm-article-snippet__datetime-published\"><time datetime=\"2022-06-02T14:56:47.000Z\" title=\"2022-06-02, 17:56\">2  июня   в 17:56</time></span></div> <!-- --></div> <h2 class=\"tm-article-snippet__title tm-article-snippet__title_h2\"><a class=\"tm-article-snippet__title-link\" data-article-link=\"\" href=\"/ru/company/bimeister/blog/669344/\"><span>Самурайские инструменты QA: <em class=\"searched-item\">Python</em> (requests)</span></a></h2> <!-- --> <!-- --> <!-- --> <!-- --></div> <div class=\"tm-data-icons\"><!-- --> <div class=\"tm-votes-meter tm-data-icons__item\"><svg class=\"tm-svg-img tm-votes-meter__icon tm-votes-meter__icon tm-votes-meter__icon_appearance-article\" height=\"24\" width=\"24\"><title>Всего голосов 2: ↑1 и ↓1</title> <use xlink:href=\"/img/megazord-v25.c73165cd.svg#counter-rating\"></use></svg> <span class=\"tm-votes-meter__value tm-votes-meter__value tm-votes-meter__value_appearance-article tm-votes-meter__value_rating\" title=\"Всего голосов 2: ↑1 и ↓1\">0</span></div> <span class=\"tm-icon-counter tm-data-icons__item\" title=\"Количество просмотров\"><svg class=\"tm-svg-img tm-icon-counter__icon\" height=\"24\" width=\"24\"><title>Просмотры</title> <use xlink:href=\"/img/megazord-v25.c73165cd.svg#counter-views\"></use></svg> <span class=\"tm-icon-counter__value\">1.7K</span></span> <button class=\"bookmarks-button tm-data-icons__item\" title=\"Добавить в закладки\" type=\"button\"><span class=\"tm-svg-icon__wrapper bookmarks-button__icon\" title=\"Добавить в закладки\"><svg class=\"tm-svg-img tm-svg-icon\" height=\"24\" width=\"24\"><title>Добавить в закладки</title> <use xlink:href=\"/img/megazord-v25.c73165cd.svg#counter-favorite\"></use></svg></span> <span class=\"bookmarks-button__counter\" title=\"Количество пользователей, добавивших публикацию в закладки\">\n",
            "    21\n",
            "  </span></button> <div class=\"tm-article-comments-counter-link tm-data-icons__item\" title=\"Читать комментарии\"><a class=\"tm-article-comments-counter-link__link\" href=\"/ru/company/bimeister/blog/669344/comments/\"><svg class=\"tm-svg-img tm-article-comments-counter-link__icon\" height=\"24\" width=\"24\"><title>Комментарии</title> <use xlink:href=\"/img/megazord-v25.c73165cd.svg#counter-comments\"></use></svg> <span class=\"tm-article-comments-counter-link__value\">\n",
            "      2\n",
            "    </span></a> <!-- --></div> <!-- --> <div class=\"v-portal\" style=\"display:none;\"></div></div></article>\n"
          ]
        }
      ]
    },
    {
      "cell_type": "code",
      "source": [
        "for article in news:\n",
        "    title = article.find('h2', 'tm-article-snippet__title_h2').text   #<h2 class=\"tm-article-snippet__title tm-article-snippet__title_h2\">\n",
        "    print(title)\n",
        "    link = article.find('a', 'tm-article-snippet__title-link').get('href')  #<a href=\"/ru/company/netologyru/news/t/594683/\" class=\"tm-article-snippet__title-link\"\n",
        "    print(link)\n",
        "    date = article.find('time')['title']   #time\n",
        "    print(date)\n",
        "    \n",
        "    print()"
      ],
      "metadata": {
        "id": "ykrSN4NXj7BY"
      },
      "execution_count": null,
      "outputs": []
    },
    {
      "cell_type": "code",
      "source": [
        "# напишем функцию по предыдущему коду\n",
        "queries_list = ['python', 'анализ данных']\n",
        "\n",
        "def get_posts_from_habr(queries):\n",
        "\n",
        "    \"\"\"\n",
        "    Функция в качестве параметра должна принимать список запросов для поиска (например, ['python', 'анализ данных']) \n",
        "    и на основе материалов, попавших в результаты поиска по каждому запросу, возвращать датафрейм вида:\n",
        "    <дата> - <заголовок> - <ссылка на материал> \n",
        "    \"\"\"\n",
        "    \n",
        "    netology_blog = pd.DataFrame()\n",
        "    URL = 'https://habr.com/ru/search/'\n",
        "\n",
        "    for query in queries:\n",
        "        params = {\n",
        "            'page': 1,\n",
        "            'q': query\n",
        "        }\n",
        "        headers = {\n",
        "            'User-Agent': 'Mozilla/5.0 (Linux; Android 6.0; Nexus 5 Build/MRA58N) AppleWebKit/537.36 (KHTML, like Gecko) Chrome/101.0.4951.67 Mobile Safari/537.36'\n",
        "        }\n",
        "        req_1 = requests.get(URL, params=params, headers=headers)\n",
        "\n",
        "        time.sleep(0.33)\n",
        "\n",
        "        soup = BeautifulSoup(req_1.text)\n",
        "        # news = soup.find_all('article', class_='tm-articles-list__item')\n",
        "        news = soup.find_all('div', class_='tm-article-snippet')\n",
        "\n",
        "        # netology_blog = pd.DataFrame() #Так НЕ ПРАВИЛЬНО!!!! \n",
        "        # Так ДФ обнуляется с каждым перебором цикла. Смотри коммент ниже\n",
        "\n",
        "        for article in news:\n",
        "            title = article.find('h2', 'tm-article-snippet__title_h2').text.strip() \n",
        "            link = article.find('a', 'tm-article-snippet__title-link').get('href')  \n",
        "            date = article.find('time')['title']   #time\n",
        "            row = {'date': date, 'title': title, 'link': link}\n",
        "            netology_blog = pd.concat([netology_blog, pd.DataFrame([row])]) \n",
        "        \n",
        "    return netology_blog.reset_index(drop=True).drop_duplicates(subset=['title'])\n"
      ],
      "metadata": {
        "id": "RZpZ7q11Q_43"
      },
      "execution_count": null,
      "outputs": []
    },
    {
      "cell_type": "markdown",
      "source": [
        "Отметка для себя: обращаю внимание, что даже, если мы введем 100 запросов, то все равно датафрейм будет длины меньше 20. \n",
        "\n",
        "На строке 31 ДФ обнуляется после перебора каждого запроса, просто затирая всю предыдущую информацию)\n",
        "\n",
        "Поэтому нужно пустой датафрейм создать до циклов, а потом только добавлять в него информацию, обнулять его не надо)\n",
        "\n"
      ],
      "metadata": {
        "id": "cmWBnb464lCt"
      }
    },
    {
      "cell_type": "code",
      "source": [
        "get_posts_from_habr(queries_list)"
      ],
      "metadata": {
        "colab": {
          "base_uri": "https://localhost:8080/",
          "height": 1000
        },
        "id": "FIKQbdT94dT9",
        "outputId": "f3a2cf3b-6861-40aa-a036-5a0538576fb6"
      },
      "execution_count": null,
      "outputs": [
        {
          "output_type": "execute_result",
          "data": {
            "text/plain": [
              "                 date                                              title  \\\n",
              "0   2022-06-10, 11:50  Обзор книги «Начинаем программировать на Pytho...   \n",
              "1   2022-06-12, 04:52  Лучшие Проекты Для Начинающих Python-Разработч...   \n",
              "2   2021-12-13, 09:00  Жаждущим автоматизации: открытый урок «ChatOps...   \n",
              "3   2022-01-20, 18:37  Курс «Python для инженеров». Старт 3 потока 31...   \n",
              "4   2020-04-21, 18:35  Вышел Python 2.7.18, последний релиз ветки Pyt...   \n",
              "5   2021-07-06, 13:29  Python Community Meetup 8/07: видео и материал...   \n",
              "6   2022-01-13, 18:35  Открытый урок «Пишем Custom Prometheus Exporte...   \n",
              "7   2020-12-04, 21:03  Python как компилируемый статически типизирова...   \n",
              "8   2022-03-08, 12:13  Вышел мартовский релиз расширения Python для V...   \n",
              "9   2020-03-03, 13:22   ...  начале этого года Python сместил Java и ...   \n",
              "10  2021-11-16, 16:09  EPAM разработала бесплатный курс по программир...   \n",
              "11  2020-06-03, 09:00  Вышла версия 0.0.2 snakeware — дистрибутива Li...   \n",
              "12  2020-11-13, 10:10  Создатель Python Гвидо ван Россум выходит на р...   \n",
              "13  2019-10-31, 10:02  Создатель Python Гвидо ван Россум ушел из Drop...   \n",
              "14  2021-10-06, 12:36          Вышел язык программирования Python 3.10.0   \n",
              "15  2021-10-11, 10:02  Python вышел на первое место рейтинга TIOBE, и...   \n",
              "16  2022-06-03, 14:47  «Тестирование веб-приложений на Python» — новы...   \n",
              "17  2020-09-16, 16:48  Астрономам порекомендовали меньше использовать...   \n",
              "18  2022-01-15, 19:00  Разработчик предложил устроить коммунистическу...   \n",
              "19  2022-05-18, 18:33  Слёрм запускает 3-дневный интенсив по Python д...   \n",
              "20  2012-07-25, 13:29                      Пять лет Школе анализа данных   \n",
              "21  2017-07-25, 13:47                10 лет Школе анализа данных Яндекса   \n",
              "22  2021-01-14, 10:00  Что такое бессерверный SQL? И как использовать...   \n",
              "23  2019-01-21, 11:21  Как мы строим систему обработки, хранения и ан...   \n",
              "24  2020-05-14, 13:39  Ubic создаст платформу для анализа данных о мо...   \n",
              "25  2020-04-16, 07:10  Microsoft анонсировала запуск «Планетарного ко...   \n",
              "26  2021-11-13, 19:15  Владимир Путин выступил с Германом Грефом на к...   \n",
              "27  2021-12-10, 13:15  Интенсив для повышения квалификации: как испол...   \n",
              "28  2021-10-18, 15:08  AI Journey Contest 2021: какие задачи мы подго...   \n",
              "29  2014-06-18, 15:19  Обзор наиболее интересных материалов по анализ...   \n",
              "30  2014-06-30, 23:06  Обзор наиболее интересных материалов по анализ...   \n",
              "31  2014-10-13, 14:00  Обзор наиболее интересных материалов по анализ...   \n",
              "32  2017-06-27, 13:51  Использование Python и Excel для обработки и а...   \n",
              "33  2014-07-28, 13:10  Обзор наиболее интересных материалов по анализ...   \n",
              "34  2014-08-11, 10:47  Обзор наиболее интересных материалов по анализ...   \n",
              "35  2014-09-14, 19:54  Обзор наиболее интересных материалов по анализ...   \n",
              "36  2014-11-23, 16:49  Обзор наиболее интересных материалов по анализ...   \n",
              "37  2015-01-18, 18:02  Обзор наиболее интересных материалов по анализ...   \n",
              "38  2014-10-05, 19:57  Обзор наиболее интересных материалов по анализ...   \n",
              "\n",
              "                                           link  \n",
              "0                              /ru/post/670740/  \n",
              "1                              /ru/post/670980/  \n",
              "2        /ru/company/southbridge/news/t/595093/  \n",
              "3        /ru/company/southbridge/news/t/646825/  \n",
              "4                            /ru/news/t/498364/  \n",
              "5     /ru/company/raiffeisenbank/news/t/566370/  \n",
              "6        /ru/company/southbridge/news/t/645485/  \n",
              "7                            /ru/news/t/531402/  \n",
              "8                            /ru/news/t/654707/  \n",
              "9            /ru/company/itsumma/news/t/490834/  \n",
              "10      /ru/company/epam_systems/news/t/589555/  \n",
              "11                           /ru/news/t/505096/  \n",
              "12                           /ru/news/t/527858/  \n",
              "13                           /ru/news/t/473926/  \n",
              "14                           /ru/news/t/581862/  \n",
              "15                           /ru/news/t/582682/  \n",
              "16  /ru/company/yandex_praktikum/news/t/669486/  \n",
              "17                           /ru/news/t/519414/  \n",
              "18                           /ru/news/t/645777/  \n",
              "19       /ru/company/southbridge/news/t/666476/  \n",
              "20              /ru/company/yandex/blog/148443/  \n",
              "21              /ru/company/yandex/blog/334066/  \n",
              "22           /ru/company/microsoft/blog/537064/  \n",
              "23      /ru/company/sibur_official/blog/436632/  \n",
              "24                           /ru/news/t/501944/  \n",
              "25                           /ru/news/t/497474/  \n",
              "26                           /ru/news/t/588991/  \n",
              "27        /ru/company/netologyru/news/t/594683/  \n",
              "28         /ru/company/sbercloud/news/t/584084/  \n",
              "29                             /ru/post/226641/  \n",
              "30                             /ru/post/228187/  \n",
              "31                             /ru/post/240139/  \n",
              "32                /ru/company/otus/blog/331746/  \n",
              "33                             /ru/post/231323/  \n",
              "34                             /ru/post/232879/  \n",
              "35                             /ru/post/236757/  \n",
              "36                             /ru/post/243967/  \n",
              "37                             /ru/post/248165/  \n",
              "38                             /ru/post/239247/  "
            ],
            "text/html": [
              "\n",
              "  <div id=\"df-8a8eff38-e639-4f34-9747-4f664223c27c\">\n",
              "    <div class=\"colab-df-container\">\n",
              "      <div>\n",
              "<style scoped>\n",
              "    .dataframe tbody tr th:only-of-type {\n",
              "        vertical-align: middle;\n",
              "    }\n",
              "\n",
              "    .dataframe tbody tr th {\n",
              "        vertical-align: top;\n",
              "    }\n",
              "\n",
              "    .dataframe thead th {\n",
              "        text-align: right;\n",
              "    }\n",
              "</style>\n",
              "<table border=\"1\" class=\"dataframe\">\n",
              "  <thead>\n",
              "    <tr style=\"text-align: right;\">\n",
              "      <th></th>\n",
              "      <th>date</th>\n",
              "      <th>title</th>\n",
              "      <th>link</th>\n",
              "    </tr>\n",
              "  </thead>\n",
              "  <tbody>\n",
              "    <tr>\n",
              "      <th>0</th>\n",
              "      <td>2022-06-10, 11:50</td>\n",
              "      <td>Обзор книги «Начинаем программировать на Pytho...</td>\n",
              "      <td>/ru/post/670740/</td>\n",
              "    </tr>\n",
              "    <tr>\n",
              "      <th>1</th>\n",
              "      <td>2022-06-12, 04:52</td>\n",
              "      <td>Лучшие Проекты Для Начинающих Python-Разработч...</td>\n",
              "      <td>/ru/post/670980/</td>\n",
              "    </tr>\n",
              "    <tr>\n",
              "      <th>2</th>\n",
              "      <td>2021-12-13, 09:00</td>\n",
              "      <td>Жаждущим автоматизации: открытый урок «ChatOps...</td>\n",
              "      <td>/ru/company/southbridge/news/t/595093/</td>\n",
              "    </tr>\n",
              "    <tr>\n",
              "      <th>3</th>\n",
              "      <td>2022-01-20, 18:37</td>\n",
              "      <td>Курс «Python для инженеров». Старт 3 потока 31...</td>\n",
              "      <td>/ru/company/southbridge/news/t/646825/</td>\n",
              "    </tr>\n",
              "    <tr>\n",
              "      <th>4</th>\n",
              "      <td>2020-04-21, 18:35</td>\n",
              "      <td>Вышел Python 2.7.18, последний релиз ветки Pyt...</td>\n",
              "      <td>/ru/news/t/498364/</td>\n",
              "    </tr>\n",
              "    <tr>\n",
              "      <th>5</th>\n",
              "      <td>2021-07-06, 13:29</td>\n",
              "      <td>Python Community Meetup 8/07: видео и материал...</td>\n",
              "      <td>/ru/company/raiffeisenbank/news/t/566370/</td>\n",
              "    </tr>\n",
              "    <tr>\n",
              "      <th>6</th>\n",
              "      <td>2022-01-13, 18:35</td>\n",
              "      <td>Открытый урок «Пишем Custom Prometheus Exporte...</td>\n",
              "      <td>/ru/company/southbridge/news/t/645485/</td>\n",
              "    </tr>\n",
              "    <tr>\n",
              "      <th>7</th>\n",
              "      <td>2020-12-04, 21:03</td>\n",
              "      <td>Python как компилируемый статически типизирова...</td>\n",
              "      <td>/ru/news/t/531402/</td>\n",
              "    </tr>\n",
              "    <tr>\n",
              "      <th>8</th>\n",
              "      <td>2022-03-08, 12:13</td>\n",
              "      <td>Вышел мартовский релиз расширения Python для V...</td>\n",
              "      <td>/ru/news/t/654707/</td>\n",
              "    </tr>\n",
              "    <tr>\n",
              "      <th>9</th>\n",
              "      <td>2020-03-03, 13:22</td>\n",
              "      <td>...  начале этого года Python сместил Java и ...</td>\n",
              "      <td>/ru/company/itsumma/news/t/490834/</td>\n",
              "    </tr>\n",
              "    <tr>\n",
              "      <th>10</th>\n",
              "      <td>2021-11-16, 16:09</td>\n",
              "      <td>EPAM разработала бесплатный курс по программир...</td>\n",
              "      <td>/ru/company/epam_systems/news/t/589555/</td>\n",
              "    </tr>\n",
              "    <tr>\n",
              "      <th>11</th>\n",
              "      <td>2020-06-03, 09:00</td>\n",
              "      <td>Вышла версия 0.0.2 snakeware — дистрибутива Li...</td>\n",
              "      <td>/ru/news/t/505096/</td>\n",
              "    </tr>\n",
              "    <tr>\n",
              "      <th>12</th>\n",
              "      <td>2020-11-13, 10:10</td>\n",
              "      <td>Создатель Python Гвидо ван Россум выходит на р...</td>\n",
              "      <td>/ru/news/t/527858/</td>\n",
              "    </tr>\n",
              "    <tr>\n",
              "      <th>13</th>\n",
              "      <td>2019-10-31, 10:02</td>\n",
              "      <td>Создатель Python Гвидо ван Россум ушел из Drop...</td>\n",
              "      <td>/ru/news/t/473926/</td>\n",
              "    </tr>\n",
              "    <tr>\n",
              "      <th>14</th>\n",
              "      <td>2021-10-06, 12:36</td>\n",
              "      <td>Вышел язык программирования Python 3.10.0</td>\n",
              "      <td>/ru/news/t/581862/</td>\n",
              "    </tr>\n",
              "    <tr>\n",
              "      <th>15</th>\n",
              "      <td>2021-10-11, 10:02</td>\n",
              "      <td>Python вышел на первое место рейтинга TIOBE, и...</td>\n",
              "      <td>/ru/news/t/582682/</td>\n",
              "    </tr>\n",
              "    <tr>\n",
              "      <th>16</th>\n",
              "      <td>2022-06-03, 14:47</td>\n",
              "      <td>«Тестирование веб-приложений на Python» — новы...</td>\n",
              "      <td>/ru/company/yandex_praktikum/news/t/669486/</td>\n",
              "    </tr>\n",
              "    <tr>\n",
              "      <th>17</th>\n",
              "      <td>2020-09-16, 16:48</td>\n",
              "      <td>Астрономам порекомендовали меньше использовать...</td>\n",
              "      <td>/ru/news/t/519414/</td>\n",
              "    </tr>\n",
              "    <tr>\n",
              "      <th>18</th>\n",
              "      <td>2022-01-15, 19:00</td>\n",
              "      <td>Разработчик предложил устроить коммунистическу...</td>\n",
              "      <td>/ru/news/t/645777/</td>\n",
              "    </tr>\n",
              "    <tr>\n",
              "      <th>19</th>\n",
              "      <td>2022-05-18, 18:33</td>\n",
              "      <td>Слёрм запускает 3-дневный интенсив по Python д...</td>\n",
              "      <td>/ru/company/southbridge/news/t/666476/</td>\n",
              "    </tr>\n",
              "    <tr>\n",
              "      <th>20</th>\n",
              "      <td>2012-07-25, 13:29</td>\n",
              "      <td>Пять лет Школе анализа данных</td>\n",
              "      <td>/ru/company/yandex/blog/148443/</td>\n",
              "    </tr>\n",
              "    <tr>\n",
              "      <th>21</th>\n",
              "      <td>2017-07-25, 13:47</td>\n",
              "      <td>10 лет Школе анализа данных Яндекса</td>\n",
              "      <td>/ru/company/yandex/blog/334066/</td>\n",
              "    </tr>\n",
              "    <tr>\n",
              "      <th>22</th>\n",
              "      <td>2021-01-14, 10:00</td>\n",
              "      <td>Что такое бессерверный SQL? И как использовать...</td>\n",
              "      <td>/ru/company/microsoft/blog/537064/</td>\n",
              "    </tr>\n",
              "    <tr>\n",
              "      <th>23</th>\n",
              "      <td>2019-01-21, 11:21</td>\n",
              "      <td>Как мы строим систему обработки, хранения и ан...</td>\n",
              "      <td>/ru/company/sibur_official/blog/436632/</td>\n",
              "    </tr>\n",
              "    <tr>\n",
              "      <th>24</th>\n",
              "      <td>2020-05-14, 13:39</td>\n",
              "      <td>Ubic создаст платформу для анализа данных о мо...</td>\n",
              "      <td>/ru/news/t/501944/</td>\n",
              "    </tr>\n",
              "    <tr>\n",
              "      <th>25</th>\n",
              "      <td>2020-04-16, 07:10</td>\n",
              "      <td>Microsoft анонсировала запуск «Планетарного ко...</td>\n",
              "      <td>/ru/news/t/497474/</td>\n",
              "    </tr>\n",
              "    <tr>\n",
              "      <th>26</th>\n",
              "      <td>2021-11-13, 19:15</td>\n",
              "      <td>Владимир Путин выступил с Германом Грефом на к...</td>\n",
              "      <td>/ru/news/t/588991/</td>\n",
              "    </tr>\n",
              "    <tr>\n",
              "      <th>27</th>\n",
              "      <td>2021-12-10, 13:15</td>\n",
              "      <td>Интенсив для повышения квалификации: как испол...</td>\n",
              "      <td>/ru/company/netologyru/news/t/594683/</td>\n",
              "    </tr>\n",
              "    <tr>\n",
              "      <th>28</th>\n",
              "      <td>2021-10-18, 15:08</td>\n",
              "      <td>AI Journey Contest 2021: какие задачи мы подго...</td>\n",
              "      <td>/ru/company/sbercloud/news/t/584084/</td>\n",
              "    </tr>\n",
              "    <tr>\n",
              "      <th>29</th>\n",
              "      <td>2014-06-18, 15:19</td>\n",
              "      <td>Обзор наиболее интересных материалов по анализ...</td>\n",
              "      <td>/ru/post/226641/</td>\n",
              "    </tr>\n",
              "    <tr>\n",
              "      <th>30</th>\n",
              "      <td>2014-06-30, 23:06</td>\n",
              "      <td>Обзор наиболее интересных материалов по анализ...</td>\n",
              "      <td>/ru/post/228187/</td>\n",
              "    </tr>\n",
              "    <tr>\n",
              "      <th>31</th>\n",
              "      <td>2014-10-13, 14:00</td>\n",
              "      <td>Обзор наиболее интересных материалов по анализ...</td>\n",
              "      <td>/ru/post/240139/</td>\n",
              "    </tr>\n",
              "    <tr>\n",
              "      <th>32</th>\n",
              "      <td>2017-06-27, 13:51</td>\n",
              "      <td>Использование Python и Excel для обработки и а...</td>\n",
              "      <td>/ru/company/otus/blog/331746/</td>\n",
              "    </tr>\n",
              "    <tr>\n",
              "      <th>33</th>\n",
              "      <td>2014-07-28, 13:10</td>\n",
              "      <td>Обзор наиболее интересных материалов по анализ...</td>\n",
              "      <td>/ru/post/231323/</td>\n",
              "    </tr>\n",
              "    <tr>\n",
              "      <th>34</th>\n",
              "      <td>2014-08-11, 10:47</td>\n",
              "      <td>Обзор наиболее интересных материалов по анализ...</td>\n",
              "      <td>/ru/post/232879/</td>\n",
              "    </tr>\n",
              "    <tr>\n",
              "      <th>35</th>\n",
              "      <td>2014-09-14, 19:54</td>\n",
              "      <td>Обзор наиболее интересных материалов по анализ...</td>\n",
              "      <td>/ru/post/236757/</td>\n",
              "    </tr>\n",
              "    <tr>\n",
              "      <th>36</th>\n",
              "      <td>2014-11-23, 16:49</td>\n",
              "      <td>Обзор наиболее интересных материалов по анализ...</td>\n",
              "      <td>/ru/post/243967/</td>\n",
              "    </tr>\n",
              "    <tr>\n",
              "      <th>37</th>\n",
              "      <td>2015-01-18, 18:02</td>\n",
              "      <td>Обзор наиболее интересных материалов по анализ...</td>\n",
              "      <td>/ru/post/248165/</td>\n",
              "    </tr>\n",
              "    <tr>\n",
              "      <th>38</th>\n",
              "      <td>2014-10-05, 19:57</td>\n",
              "      <td>Обзор наиболее интересных материалов по анализ...</td>\n",
              "      <td>/ru/post/239247/</td>\n",
              "    </tr>\n",
              "  </tbody>\n",
              "</table>\n",
              "</div>\n",
              "      <button class=\"colab-df-convert\" onclick=\"convertToInteractive('df-8a8eff38-e639-4f34-9747-4f664223c27c')\"\n",
              "              title=\"Convert this dataframe to an interactive table.\"\n",
              "              style=\"display:none;\">\n",
              "        \n",
              "  <svg xmlns=\"http://www.w3.org/2000/svg\" height=\"24px\"viewBox=\"0 0 24 24\"\n",
              "       width=\"24px\">\n",
              "    <path d=\"M0 0h24v24H0V0z\" fill=\"none\"/>\n",
              "    <path d=\"M18.56 5.44l.94 2.06.94-2.06 2.06-.94-2.06-.94-.94-2.06-.94 2.06-2.06.94zm-11 1L8.5 8.5l.94-2.06 2.06-.94-2.06-.94L8.5 2.5l-.94 2.06-2.06.94zm10 10l.94 2.06.94-2.06 2.06-.94-2.06-.94-.94-2.06-.94 2.06-2.06.94z\"/><path d=\"M17.41 7.96l-1.37-1.37c-.4-.4-.92-.59-1.43-.59-.52 0-1.04.2-1.43.59L10.3 9.45l-7.72 7.72c-.78.78-.78 2.05 0 2.83L4 21.41c.39.39.9.59 1.41.59.51 0 1.02-.2 1.41-.59l7.78-7.78 2.81-2.81c.8-.78.8-2.07 0-2.86zM5.41 20L4 18.59l7.72-7.72 1.47 1.35L5.41 20z\"/>\n",
              "  </svg>\n",
              "      </button>\n",
              "      \n",
              "  <style>\n",
              "    .colab-df-container {\n",
              "      display:flex;\n",
              "      flex-wrap:wrap;\n",
              "      gap: 12px;\n",
              "    }\n",
              "\n",
              "    .colab-df-convert {\n",
              "      background-color: #E8F0FE;\n",
              "      border: none;\n",
              "      border-radius: 50%;\n",
              "      cursor: pointer;\n",
              "      display: none;\n",
              "      fill: #1967D2;\n",
              "      height: 32px;\n",
              "      padding: 0 0 0 0;\n",
              "      width: 32px;\n",
              "    }\n",
              "\n",
              "    .colab-df-convert:hover {\n",
              "      background-color: #E2EBFA;\n",
              "      box-shadow: 0px 1px 2px rgba(60, 64, 67, 0.3), 0px 1px 3px 1px rgba(60, 64, 67, 0.15);\n",
              "      fill: #174EA6;\n",
              "    }\n",
              "\n",
              "    [theme=dark] .colab-df-convert {\n",
              "      background-color: #3B4455;\n",
              "      fill: #D2E3FC;\n",
              "    }\n",
              "\n",
              "    [theme=dark] .colab-df-convert:hover {\n",
              "      background-color: #434B5C;\n",
              "      box-shadow: 0px 1px 3px 1px rgba(0, 0, 0, 0.15);\n",
              "      filter: drop-shadow(0px 1px 2px rgba(0, 0, 0, 0.3));\n",
              "      fill: #FFFFFF;\n",
              "    }\n",
              "  </style>\n",
              "\n",
              "      <script>\n",
              "        const buttonEl =\n",
              "          document.querySelector('#df-8a8eff38-e639-4f34-9747-4f664223c27c button.colab-df-convert');\n",
              "        buttonEl.style.display =\n",
              "          google.colab.kernel.accessAllowed ? 'block' : 'none';\n",
              "\n",
              "        async function convertToInteractive(key) {\n",
              "          const element = document.querySelector('#df-8a8eff38-e639-4f34-9747-4f664223c27c');\n",
              "          const dataTable =\n",
              "            await google.colab.kernel.invokeFunction('convertToInteractive',\n",
              "                                                     [key], {});\n",
              "          if (!dataTable) return;\n",
              "\n",
              "          const docLinkHtml = 'Like what you see? Visit the ' +\n",
              "            '<a target=\"_blank\" href=https://colab.research.google.com/notebooks/data_table.ipynb>data table notebook</a>'\n",
              "            + ' to learn more about interactive tables.';\n",
              "          element.innerHTML = '';\n",
              "          dataTable['output_type'] = 'display_data';\n",
              "          await google.colab.output.renderOutput(dataTable, element);\n",
              "          const docLink = document.createElement('div');\n",
              "          docLink.innerHTML = docLinkHtml;\n",
              "          element.appendChild(docLink);\n",
              "        }\n",
              "      </script>\n",
              "    </div>\n",
              "  </div>\n",
              "  "
            ]
          },
          "metadata": {},
          "execution_count": 10
        }
      ]
    },
    {
      "cell_type": "markdown",
      "source": [
        "#Полезные ссылки\n",
        "\n",
        "[Найти дочерние узлы с помощью Beautiful Soup](https://overcoder.net/q/50966/%D0%BA%D0%B0%D0%BA-%D0%BD%D0%B0%D0%B9%D1%82%D0%B8-%D0%B4%D0%BE%D1%87%D0%B5%D1%80%D0%BD%D0%B8%D1%85-%D1%83%D0%B7%D0%BB%D0%BE%D0%B2-%D1%81-%D0%BF%D0%BE%D0%BC%D0%BE%D1%89%D1%8C%D1%8E-beautiful-soup#google_vignette)\n",
        "\n",
        "[pandas.DataFrame.drop_duplicates](https://pandas.pydata.org/docs/reference/api/pandas.DataFrame.drop_duplicates.html) Return DataFrame with duplicate rows removed.\n",
        "\n",
        "[Colab с вебинара](https://colab.research.google.com/drive/14RLOVaWVd-tybqITkzQD2B3ffnM6Qf4h#scrollTo=bc9lmKVdGiNc)"
      ],
      "metadata": {
        "id": "8H-0ueUnX_RS"
      }
    }
  ]
}